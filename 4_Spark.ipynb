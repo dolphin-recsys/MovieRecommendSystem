{
 "cells": [
  {
   "cell_type": "markdown",
   "metadata": {},
   "source": [
    "#### 一、 数据集加载"
   ]
  },
  {
   "cell_type": "code",
   "execution_count": 4,
   "metadata": {},
   "outputs": [],
   "source": [
    "import findspark\n",
    "findspark.init()\n",
    "from pyspark import SparkContext, SQLContext, HiveContext, SparkConf\n",
    "#sc.stop()\n",
    "sc = SparkContext('local', 'pyspark')\n",
    "sqlContext = HiveContext(sc)"
   ]
  },
  {
   "cell_type": "code",
   "execution_count": 5,
   "metadata": {},
   "outputs": [],
   "source": [
    "data_dir = 'D:/python/Jupyter_Last_project/dataset/'"
   ]
  },
  {
   "cell_type": "code",
   "execution_count": 9,
   "metadata": {},
   "outputs": [
    {
     "name": "stdout",
     "output_type": "stream",
     "text": [
      "movies_data.head()\n",
      "    类型                  主演    地区     导演  特色   评分     电影名\n",
      "0  剧情    徐峥|王传君|周一围|谭卓|章宇  中国大陆    文牧野  经典  8.9   我不是药神\n",
      "1  剧情   冯小刚|许晴|张涵予|刘桦|李易峰  中国大陆     管虎  经典  7.8     老炮儿\n",
      "2  剧情  王宝强|刘昊然|肖央|刘承羽|尚语贤  中国大陆    陈思诚  经典  6.7  唐人街探案2\n",
      "3  剧情  任素汐|大力|刘帅良|裴魁山|阿如那  中国大陆  周申|刘露  经典  8.3     驴得水\n",
      "4  剧情   徐峥|王宝强|李曼|李小璐|左小青  中国大陆    叶伟民  经典  7.5    人在囧途\n"
     ]
    }
   ],
   "source": [
    "import pandas as pd\n",
    "def load_movies_dataset():\n",
    "    #movie_data_columns = [\n",
    "    #'type_douban', 'actor', 'region', 'director', 'characteristic',\n",
    "    #'score_douban', 'moviename']\n",
    "    movie_data = pd.read_csv(data_dir + './dataset1/movie.csv')\n",
    "    #movie_data.columns = movie_data_columns \n",
    "    return movie_data \n",
    "\n",
    "def load_user_and_ratings() :\n",
    "    user_data = pd.read_csv(data_dir + './dataset1/user.csv')\n",
    "    user_data['comment_time'] = pd.to_datetime(user_data['评论时间'])\n",
    "    return user_data \n",
    "\n",
    "def load_doubanmovieshortcomments() :\n",
    "    movieshortcomments_data = pd.read_csv(data_dir_doubanmovieshortcomments + './DMSC.csv')\n",
    "\n",
    "    return movieshortcomments_data \n",
    "data_dir = 'D:/python/Jupyter_Last_project/dataset/'\n",
    "data_dir_doubanmovieshortcomments = 'D:/python/Jupyter_Last_project/dataset/doubanmovieshortcomments/'\n",
    "movies_data = load_movies_dataset()\n",
    "print('movies_data.head()\\n',movies_data.head())\n",
    "user_data = load_user_and_ratings() \n",
    "#print('user_data.head()\\n',user_data.head())\n",
    "#movieshortcomments_data = load_doubanmovieshortcomments()\n",
    "#print('movieshortcomments_data.head()\\n',movieshortcomments_data.head())"
   ]
  },
  {
   "cell_type": "code",
   "execution_count": 28,
   "metadata": {},
   "outputs": [],
   "source": [
    "from pyspark.sql.types import *\n",
    "fields = [StructField(\"类型\", StringType(), True),\n",
    "       StructField(\"主演\", StringType(), True),\n",
    "       StructField(\"地区\", StringType(), True),\n",
    "       StructField(\"导演\", StringType(), True),\n",
    "       StructField(\"特色\", StringType(), True),\n",
    "       StructField(\"豆瓣评分\", DoubleType(), True),\n",
    "       StructField(\"电影名\", StringType(), True)]"
   ]
  },
  {
   "cell_type": "code",
   "execution_count": 29,
   "metadata": {},
   "outputs": [
    {
     "name": "stdout",
     "output_type": "stream",
     "text": [
      "+----+--------------------------------+--------+---------+----+--------+-----------+\n",
      "|类型|                            主演|    地区|     导演|特色|豆瓣评分|     电影名|\n",
      "+----+--------------------------------+--------+---------+----+--------+-----------+\n",
      "|剧情|    徐峥|王传君|周一围|谭卓|章宇|中国大陆|   文牧野|经典|     8.9| 我不是药神|\n",
      "|剧情|  冯小刚|许晴|张涵予|刘桦|李易峰|中国大陆|     管虎|经典|     7.8|     老炮儿|\n",
      "|剧情|王宝强|刘昊然|肖央|刘承羽|尚语贤|中国大陆|   陈思诚|经典|     6.7|唐人街探案2|\n",
      "|剧情|任素汐|大力|刘帅良|裴魁山|阿如那|中国大陆|周申|刘露|经典|     8.3|     驴得水|\n",
      "|剧情|  徐峥|王宝强|李曼|李小璐|左小青|中国大陆|   叶伟民|经典|     7.5|   人在囧途|\n",
      "+----+--------------------------------+--------+---------+----+--------+-----------+\n",
      "only showing top 5 rows\n",
      "\n"
     ]
    }
   ],
   "source": [
    "movie_spark_df = sqlContext.read.format(\"com.databricks.spark.csv\")            \\\n",
    "        .options(delimiter=',')                                         \\\n",
    "        .options( header=True)                                          \\\n",
    "        .load(data_dir + './dataset1/movie.csv',schema = StructType(fields))\n",
    "\n",
    "movie_spark_df.cache()\n",
    "movie_spark_df.show( 5 )"
   ]
  },
  {
   "cell_type": "code",
   "execution_count": 30,
   "metadata": {},
   "outputs": [
    {
     "name": "stdout",
     "output_type": "stream",
     "text": [
      "user_data.head()\n",
      "    评分     用户名                 评论时间  用户ID    电影名  类型        comment_time\n",
      "0   2      身似  2018-01-05 15:05:06     1   心雨花露  爱情 2018-01-05 15:05:06\n",
      "1   4  有意识的贱民  2018-01-05 15:05:06     3  战争的恐怖  战争 2018-01-05 15:05:06\n",
      "2   2    亿万露电  2018-01-05 15:05:06     4  豪勇七蛟龙  战争 2018-01-05 15:05:06\n",
      "3   2   Marni  2018-01-05 15:05:06     5   无序之主  犯罪 2018-01-05 15:05:06\n",
      "4   4   马西嘻嘻嘻  2018-01-05 15:05:06     6  时装店风波  同性 2018-01-05 15:05:06\n"
     ]
    }
   ],
   "source": [
    "print('user_data.head()\\n',user_data.head())"
   ]
  },
  {
   "cell_type": "code",
   "execution_count": 31,
   "metadata": {},
   "outputs": [],
   "source": [
    "fields_user_rating = [StructField(\"用户评分\", IntegerType(), True),\n",
    "       StructField(\"用户名\", StringType(), True),\n",
    "       StructField(\"评论时间 \", DateType(), True),\n",
    "       StructField(\"用户ID\", StringType(), True),\n",
    "       StructField(\"电影名\", StringType(), True),\n",
    "       StructField(\"类型\", StringType(), True),]"
   ]
  },
  {
   "cell_type": "code",
   "execution_count": 32,
   "metadata": {},
   "outputs": [
    {
     "name": "stdout",
     "output_type": "stream",
     "text": [
      "+--------+------------+----------+------+----------+----+\n",
      "|用户评分|      用户名| 评论时间 |用户ID|    电影名|类型|\n",
      "+--------+------------+----------+------+----------+----+\n",
      "|       2|        身似|2018-01-05|     1|  心雨花露|爱情|\n",
      "|       4|有意识的贱民|2018-01-05|     3|战争的恐怖|战争|\n",
      "|       2|    亿万露电|2018-01-05|     4|豪勇七蛟龙|战争|\n",
      "|       2|       Marni|2018-01-05|     5|  无序之主|犯罪|\n",
      "|       4|  马西嘻嘻嘻|2018-01-05|     6|时装店风波|同性|\n",
      "+--------+------------+----------+------+----------+----+\n",
      "only showing top 5 rows\n",
      "\n"
     ]
    }
   ],
   "source": [
    "user_ratings_spark_df = sqlContext.read.format(\"com.databricks.spark.csv\")            \\\n",
    "        .options(delimiter=',')                                         \\\n",
    "        .options( header=True)                                          \\\n",
    "        .load(data_dir + './dataset1/user.csv',schema = StructType(fields_user_rating))\n",
    "\n",
    "user_ratings_spark_df.cache()\n",
    "user_ratings_spark_df.show( 5 )"
   ]
  },
  {
   "cell_type": "code",
   "execution_count": 33,
   "metadata": {},
   "outputs": [
    {
     "name": "stdout",
     "output_type": "stream",
     "text": [
      "+----------------+----+--------+------------+----------+------+--------------------------+--------+---------------+----+--------+\n",
      "|          电影名|类型|用户评分|      用户名| 评论时间 |用户ID|                      主演|    地区|           导演|特色|豆瓣评分|\n",
      "+----------------+----+--------+------------+----------+------+--------------------------+--------+---------------+----+--------+\n",
      "|            1028|灾难|       8|      对儿勾|2018-01-05|  1576|黄潇|刘翀|杨五洲|王默|肖睿|    美国|         闫海笑|青春|     8.8|\n",
      "|            1028|灾难|       8|        Lynn|2018-01-08|  8832|黄潇|刘翀|杨五洲|王默|肖睿|    美国|         闫海笑|青春|     8.8|\n",
      "|            1028|灾难|       4|        眠歌|2018-01-18| 25856|黄潇|刘翀|杨五洲|王默|肖睿|    美国|         闫海笑|青春|     8.8|\n",
      "|            1028|灾难|       8|       Viola|2018-01-19| 15894|黄潇|刘翀|杨五洲|王默|肖睿|    美国|         闫海笑|青春|     8.8|\n",
      "|            1028|灾难|       8|        散井|2018-01-19|  5056|黄潇|刘翀|杨五洲|王默|肖睿|    美国|         闫海笑|青春|     8.8|\n",
      "|            1028|灾难|       4|潜水教练疯子|2018-01-23| 13239|黄潇|刘翀|杨五洲|王默|肖睿|    美国|         闫海笑|青春|     8.8|\n",
      "|            1028|灾难|       2|        橙橙|2018-01-25| 13320|黄潇|刘翀|杨五洲|王默|肖睿|    美国|         闫海笑|青春|     8.8|\n",
      "|            1028|灾难|       4|    笑望江湖|2018-01-28|  1859|黄潇|刘翀|杨五洲|王默|肖睿|    美国|         闫海笑|青春|     8.8|\n",
      "|             110|剧情|       8|    伊西Nish|2018-01-05| 13069|        王梓清|韦玮|徐靓靓|中国大陆|         曾庆杰|青春|     6.0|\n",
      "|             110|剧情|      10|    Heinrich|2018-01-08| 15982|        王梓清|韦玮|徐靓靓|中国大陆|         曾庆杰|青春|     6.0|\n",
      "|             110|剧情|      10|       Grace|2018-01-18|  6715|        王梓清|韦玮|徐靓靓|中国大陆|         曾庆杰|青春|     6.0|\n",
      "|             110|剧情|       4|    炒饭先生|2018-01-19| 25705|        王梓清|韦玮|徐靓靓|中国大陆|         曾庆杰|青春|     6.0|\n",
      "|             110|剧情|       2|      creasy|2018-01-19| 14330|        王梓清|韦玮|徐靓靓|中国大陆|         曾庆杰|青春|     6.0|\n",
      "|             110|剧情|      10|  一杯喷头酒|2018-01-23|  4876|        王梓清|韦玮|徐靓靓|中国大陆|         曾庆杰|青春|     6.0|\n",
      "|             110|剧情|       8|  补了个腚桑|2018-01-24| 34964|        王梓清|韦玮|徐靓靓|中国大陆|         曾庆杰|青春|     6.0|\n",
      "|             110|剧情|      10|        闪闪|2018-01-25|  7363|        王梓清|韦玮|徐靓靓|中国大陆|         曾庆杰|青春|     6.0|\n",
      "|             110|剧情|       8|    大波罗霸|2018-01-28|  2287|        王梓清|韦玮|徐靓靓|中国大陆|         曾庆杰|青春|     6.0|\n",
      "|             110|剧情|       8|      刀逼刀|2018-01-29| 41597|        王梓清|韦玮|徐靓靓|中国大陆|         曾庆杰|青春|     6.0|\n",
      "|2029星球女子监狱|冒险|       8|    \"一\"\"一\"|2018-01-05| 10050|      Kate Rodger|Josh ...|    美国|Lloyd A|Simandl|黑帮|     2.6|\n",
      "|2029星球女子监狱|冒险|      10| Tao Project|2018-01-18| 12937|      Kate Rodger|Josh ...|    美国|Lloyd A|Simandl|黑帮|     2.6|\n",
      "+----------------+----+--------+------------+----------+------+--------------------------+--------+---------------+----+--------+\n",
      "only showing top 20 rows\n",
      "\n"
     ]
    }
   ],
   "source": [
    "user_movies_df = user_ratings_spark_df.join( movie_spark_df, [\"电影名\",\"类型\"] , how = \"inner\" )\n",
    "user_movies_df.show()"
   ]
  },
  {
   "cell_type": "code",
   "execution_count": 34,
   "metadata": {},
   "outputs": [
    {
     "data": {
      "text/plain": [
       "239139"
      ]
     },
     "execution_count": 34,
     "metadata": {},
     "output_type": "execute_result"
    }
   ],
   "source": [
    "user_movies_df.count()"
   ]
  },
  {
   "cell_type": "markdown",
   "metadata": {},
   "source": [
    "### 类别型特征和连续型特征"
   ]
  },
  {
   "cell_type": "code",
   "execution_count": 37,
   "metadata": {},
   "outputs": [],
   "source": [
    "cat_features = ['类型',\n",
    "              '地区',\n",
    "              '导演',\n",
    "              '特色']\n",
    "continuous_features = ['豆瓣评分']\n"
   ]
  },
  {
   "cell_type": "code",
   "execution_count": 38,
   "metadata": {},
   "outputs": [],
   "source": [
    "from pyspark.ml.feature import OneHotEncoder, StringIndexer, VectorAssembler, PolynomialExpansion, VectorIndexer\n",
    "def create_category_vars( dataset, field_name ):\n",
    "    #print('field_name\\n',field_name)\n",
    "    idx_col = field_name + \"Index\"\n",
    "    col_vec = field_name + \"Vec\"\n",
    "    #print('idx_col\\n',idx_col)\n",
    "    #print('col_vec\\n',col_vec)\n",
    "    #dataset = dataset.withColumn( idx_col,dataset[field_name] )\n",
    "    #dataset = dataset.withColumn( col_vec,dataset[field_name] )\n",
    "    print('dataset.columns\\n',dataset.columns)\n",
    "    month_stringIndexer = StringIndexer( inputCol=field_name,\n",
    "                                       outputCol=idx_col )\n",
    "\n",
    "    month_model = month_stringIndexer.fit( dataset )\n",
    "    month_indexed = month_model.transform( dataset )\n",
    "\n",
    "    month_encoder = OneHotEncoder( dropLast=True,\n",
    "                                 inputCol=idx_col,\n",
    "                                 outputCol= col_vec )\n",
    "\n",
    "    return month_encoder.transform( month_indexed )"
   ]
  },
  {
   "cell_type": "code",
   "execution_count": 39,
   "metadata": {},
   "outputs": [
    {
     "name": "stdout",
     "output_type": "stream",
     "text": [
      "dataset.columns\n",
      " ['电影名', '类型', '用户评分', '用户名', '评论时间 ', '用户ID', '主演', '地区', '导演', '特色', '豆瓣评分']\n",
      "dataset.columns\n",
      " ['电影名', '类型', '用户评分', '用户名', '评论时间 ', '用户ID', '主演', '地区', '导演', '特色', '豆瓣评分', '类型Index', '类型Vec']\n",
      "dataset.columns\n",
      " ['电影名', '类型', '用户评分', '用户名', '评论时间 ', '用户ID', '主演', '地区', '导演', '特色', '豆瓣评分', '类型Index', '类型Vec', '地区Index', '地区Vec']\n",
      "dataset.columns\n",
      " ['电影名', '类型', '用户评分', '用户名', '评论时间 ', '用户ID', '主演', '地区', '导演', '特色', '豆瓣评分', '类型Index', '类型Vec', '地区Index', '地区Vec', '导演Index', '导演Vec']\n"
     ]
    }
   ],
   "source": [
    "for col in cat_features:\n",
    "    user_movies_df = create_category_vars( user_movies_df, col )\n",
    "    user_movies_df.cache()"
   ]
  },
  {
   "cell_type": "code",
   "execution_count": 40,
   "metadata": {},
   "outputs": [
    {
     "name": "stdout",
     "output_type": "stream",
     "text": [
      "+------+----+--------+------+----------+------+--------------------------+----+------+----+--------+---------+---------------+---------+--------------+---------+--------------------+---------+-------------+\n",
      "|电影名|类型|用户评分|用户名| 评论时间 |用户ID|                      主演|地区|  导演|特色|豆瓣评分|类型Index|        类型Vec|地区Index|       地区Vec|导演Index|             导演Vec|特色Index|      特色Vec|\n",
      "+------+----+--------+------+----------+------+--------------------------+----+------+----+--------+---------+---------------+---------+--------------+---------+--------------------+---------+-------------+\n",
      "|  1028|灾难|       8|对儿勾|2018-01-05|  1576|黄潇|刘翀|杨五洲|王默|肖睿|美国|闫海笑|青春|     8.8|     17.0|(18,[17],[1.0])|      0.0|(20,[0],[1.0])|   4529.0|(12155,[4529],[1.0])|      0.0|(8,[0],[1.0])|\n",
      "|  1028|灾难|       8|  Lynn|2018-01-08|  8832|黄潇|刘翀|杨五洲|王默|肖睿|美国|闫海笑|青春|     8.8|     17.0|(18,[17],[1.0])|      0.0|(20,[0],[1.0])|   4529.0|(12155,[4529],[1.0])|      0.0|(8,[0],[1.0])|\n",
      "+------+----+--------+------+----------+------+--------------------------+----+------+----+--------+---------+---------------+---------+--------------+---------+--------------------+---------+-------------+\n",
      "only showing top 2 rows\n",
      "\n"
     ]
    }
   ],
   "source": [
    "user_movies_df.show(2)"
   ]
  },
  {
   "cell_type": "code",
   "execution_count": 41,
   "metadata": {},
   "outputs": [
    {
     "data": {
      "text/plain": [
       "['类型Vec', '地区Vec', '导演Vec', '特色Vec']"
      ]
     },
     "execution_count": 41,
     "metadata": {},
     "output_type": "execute_result"
    }
   ],
   "source": [
    "categorical_vecs = [ \"\".join( (cat, \"Vec\") ) for cat in cat_features ]\n",
    "categorical_vecs"
   ]
  },
  {
   "cell_type": "markdown",
   "metadata": {},
   "source": [
    "### 所有特征"
   ]
  },
  {
   "cell_type": "code",
   "execution_count": 42,
   "metadata": {},
   "outputs": [
    {
     "data": {
      "text/plain": [
       "['豆瓣评分', '类型Vec', '地区Vec', '导演Vec', '特色Vec']"
      ]
     },
     "execution_count": 42,
     "metadata": {},
     "output_type": "execute_result"
    }
   ],
   "source": [
    "all_features = continuous_features + categorical_vecs\n",
    "all_features"
   ]
  },
  {
   "cell_type": "markdown",
   "metadata": {},
   "source": [
    "#### 创建向量"
   ]
  },
  {
   "cell_type": "code",
   "execution_count": 43,
   "metadata": {},
   "outputs": [],
   "source": [
    "assembler = VectorAssembler( inputCols = all_features, outputCol = \"features\")\n",
    "user_movies_df = assembler.transform( user_movies_df )"
   ]
  },
  {
   "cell_type": "code",
   "execution_count": 44,
   "metadata": {},
   "outputs": [
    {
     "data": {
      "text/plain": [
       "['电影名',\n",
       " '类型',\n",
       " '用户评分',\n",
       " '用户名',\n",
       " '评论时间 ',\n",
       " '用户ID',\n",
       " '主演',\n",
       " '地区',\n",
       " '导演',\n",
       " '特色',\n",
       " '豆瓣评分',\n",
       " '类型Index',\n",
       " '类型Vec',\n",
       " '地区Index',\n",
       " '地区Vec',\n",
       " '导演Index',\n",
       " '导演Vec',\n",
       " '特色Index',\n",
       " '特色Vec',\n",
       " 'features']"
      ]
     },
     "execution_count": 44,
     "metadata": {},
     "output_type": "execute_result"
    }
   ],
   "source": [
    "user_movies_df.columns"
   ]
  },
  {
   "cell_type": "markdown",
   "metadata": {},
   "source": [
    "#### 预测目标变量——销量"
   ]
  },
  {
   "cell_type": "code",
   "execution_count": 45,
   "metadata": {},
   "outputs": [
    {
     "name": "stdout",
     "output_type": "stream",
     "text": [
      "+--------------------+-----+\n",
      "|            features|label|\n",
      "+--------------------+-----+\n",
      "|(12202,[0,18,19,4...|  8.0|\n",
      "|(12202,[0,18,19,4...|  8.0|\n",
      "|(12202,[0,18,19,4...|  4.0|\n",
      "|(12202,[0,18,19,4...|  8.0|\n",
      "|(12202,[0,18,19,4...|  8.0|\n",
      "+--------------------+-----+\n",
      "only showing top 5 rows\n",
      "\n"
     ]
    }
   ],
   "source": [
    "user_movies_df = user_movies_df.withColumn( \"label\", user_movies_df.用户评分.cast( 'double' ) )\n",
    "user_movies_df.select( \"features\", \"label\" ).show( 5 )"
   ]
  },
  {
   "cell_type": "code",
   "execution_count": 53,
   "metadata": {},
   "outputs": [],
   "source": [
    "user_movies_df = user_movies_df.drop(\"用户评分\" )"
   ]
  },
  {
   "cell_type": "code",
   "execution_count": 55,
   "metadata": {},
   "outputs": [
    {
     "name": "stdout",
     "output_type": "stream",
     "text": [
      "+------+----+------+----------+------+--------------------------+----+------+----+--------+---------+---------------+---------+--------------+---------+--------------------+---------+-------------+--------------------+-----+\n",
      "|电影名|类型|用户名| 评论时间 |用户ID|                      主演|地区|  导演|特色|豆瓣评分|类型Index|        类型Vec|地区Index|       地区Vec|导演Index|             导演Vec|特色Index|      特色Vec|            features|label|\n",
      "+------+----+------+----------+------+--------------------------+----+------+----+--------+---------+---------------+---------+--------------+---------+--------------------+---------+-------------+--------------------+-----+\n",
      "|  1028|灾难|对儿勾|2018-01-05|  1576|黄潇|刘翀|杨五洲|王默|肖睿|美国|闫海笑|青春|     8.8|     17.0|(18,[17],[1.0])|      0.0|(20,[0],[1.0])|   4529.0|(12155,[4529],[1.0])|      0.0|(8,[0],[1.0])|(12202,[0,18,19,4...|  8.0|\n",
      "|  1028|灾难|  Lynn|2018-01-08|  8832|黄潇|刘翀|杨五洲|王默|肖睿|美国|闫海笑|青春|     8.8|     17.0|(18,[17],[1.0])|      0.0|(20,[0],[1.0])|   4529.0|(12155,[4529],[1.0])|      0.0|(8,[0],[1.0])|(12202,[0,18,19,4...|  8.0|\n",
      "|  1028|灾难|  眠歌|2018-01-18| 25856|黄潇|刘翀|杨五洲|王默|肖睿|美国|闫海笑|青春|     8.8|     17.0|(18,[17],[1.0])|      0.0|(20,[0],[1.0])|   4529.0|(12155,[4529],[1.0])|      0.0|(8,[0],[1.0])|(12202,[0,18,19,4...|  4.0|\n",
      "+------+----+------+----------+------+--------------------------+----+------+----+--------+---------+---------------+---------+--------------+---------+--------------------+---------+-------------+--------------------+-----+\n",
      "only showing top 3 rows\n",
      "\n"
     ]
    }
   ],
   "source": [
    "user_movies_df.show(3)"
   ]
  },
  {
   "cell_type": "markdown",
   "metadata": {},
   "source": [
    "#### 拆分数据集为训练集和测试集"
   ]
  },
  {
   "cell_type": "code",
   "execution_count": 56,
   "metadata": {},
   "outputs": [],
   "source": [
    "seed = 42\n",
    "train_df, test_df = user_movies_df.randomSplit( [0.7, 0.3], seed = seed )"
   ]
  },
  {
   "cell_type": "markdown",
   "metadata": {},
   "source": [
    "#### Linear Regression 模型"
   ]
  },
  {
   "cell_type": "code",
   "execution_count": 57,
   "metadata": {},
   "outputs": [],
   "source": [
    "from pyspark.ml.regression import LinearRegression\n",
    "linreg = LinearRegression(maxIter=500, regParam=0.0)\n",
    "lm = linreg.fit( train_df )"
   ]
  },
  {
   "cell_type": "markdown",
   "metadata": {},
   "source": [
    "#### Intercept截距 和 coefficeients系数 的值"
   ]
  },
  {
   "cell_type": "code",
   "execution_count": 58,
   "metadata": {},
   "outputs": [
    {
     "data": {
      "text/plain": [
       "7.260968175237028"
      ]
     },
     "execution_count": 58,
     "metadata": {},
     "output_type": "execute_result"
    }
   ],
   "source": [
    "lm.intercept"
   ]
  },
  {
   "cell_type": "code",
   "execution_count": 59,
   "metadata": {},
   "outputs": [
    {
     "data": {
      "text/plain": [
       "7.260968175237028"
      ]
     },
     "execution_count": 59,
     "metadata": {},
     "output_type": "execute_result"
    }
   ],
   "source": [
    "lm.coefficients"
   ]
  },
  {
   "cell_type": "markdown",
   "metadata": {},
   "source": [
    "#### 对测试集进行预测"
   ]
  },
  {
   "cell_type": "code",
   "execution_count": 60,
   "metadata": {},
   "outputs": [
    {
     "name": "stdout",
     "output_type": "stream",
     "text": [
      "+--------------------+-----+-----------------+\n",
      "|            features|label|       prediction|\n",
      "+--------------------+-----+-----------------+\n",
      "|(12202,[0,18,19,4...|  8.0|6.241916651012984|\n",
      "|(12202,[0,18,19,4...|  8.0|6.241916651012984|\n",
      "|(12202,[0,18,19,4...|  8.0|6.241916651012984|\n",
      "|(12202,[0,4,20,97...|  8.0|6.371745588268456|\n",
      "|(12202,[0,4,20,97...|  8.0|6.371745588268456|\n",
      "+--------------------+-----+-----------------+\n",
      "only showing top 5 rows\n",
      "\n"
     ]
    }
   ],
   "source": [
    "y_pred = lm.transform( test_df )\n",
    "y_pred.select( 'features', 'label', 'prediction' ).show( 5 )"
   ]
  },
  {
   "cell_type": "markdown",
   "metadata": {},
   "source": [
    "#### 使用RMSE和R-Squared 建模"
   ]
  },
  {
   "cell_type": "code",
   "execution_count": 61,
   "metadata": {},
   "outputs": [
    {
     "data": {
      "text/plain": [
       "2.7182165886282275"
      ]
     },
     "execution_count": 61,
     "metadata": {},
     "output_type": "execute_result"
    }
   ],
   "source": [
    "from pyspark.ml.evaluation import RegressionEvaluator\n",
    "rmse_evaluator = RegressionEvaluator(labelCol=\"label\",\n",
    "                            predictionCol=\"prediction\",\n",
    "                            metricName=\"rmse\" )\n",
    "lm_rmse = rmse_evaluator.evaluate( y_pred )\n",
    "lm_rmse"
   ]
  },
  {
   "cell_type": "code",
   "execution_count": 62,
   "metadata": {},
   "outputs": [
    {
     "data": {
      "text/plain": [
       "-0.05923048304365497"
      ]
     },
     "execution_count": 62,
     "metadata": {},
     "output_type": "execute_result"
    }
   ],
   "source": [
    "r2_evaluator = RegressionEvaluator(labelCol=\"label\",\n",
    "                            predictionCol=\"prediction\",\n",
    "                            metricName=\"r2\" )\n",
    "lm_r2 = r2_evaluator.evaluate( y_pred )\n",
    "lm_r2"
   ]
  },
  {
   "cell_type": "code",
   "execution_count": null,
   "metadata": {},
   "outputs": [],
   "source": []
  }
 ],
 "metadata": {
  "kernelspec": {
   "display_name": "Python [conda env:py36]",
   "language": "python",
   "name": "conda-env-py36-py"
  },
  "language_info": {
   "codemirror_mode": {
    "name": "ipython",
    "version": 3
   },
   "file_extension": ".py",
   "mimetype": "text/x-python",
   "name": "python",
   "nbconvert_exporter": "python",
   "pygments_lexer": "ipython3",
   "version": "3.6.12"
  }
 },
 "nbformat": 4,
 "nbformat_minor": 4
}
