{
 "cells": [
  {
   "cell_type": "code",
   "execution_count": 3,
   "metadata": {},
   "outputs": [],
   "source": [
    "import random\n",
    "import numpy as np\n",
    "\n",
    "my_seed = 1337\n",
    "random.seed(my_seed)\n",
    "np.random.seed(my_seed)\n",
    "\n",
    "from typing import *\n",
    "from IPython.display import display, HTML, Markdown\n",
    "\n",
    "import warnings\n",
    "warnings.filterwarnings('ignore')"
   ]
  },
  {
   "cell_type": "markdown",
   "metadata": {},
   "source": [
    "### 数据读取与合并"
   ]
  },
  {
   "cell_type": "code",
   "execution_count": 4,
   "metadata": {},
   "outputs": [
    {
     "name": "stdout",
     "output_type": "stream",
     "text": [
      "user_data\n",
      " (188843, 6)\n",
      "movie_data\n",
      " (89524, 7)\n",
      "all_data\n",
      " (253054, 12)\n",
      "<class 'pandas.core.frame.DataFrame'>\n",
      "RangeIndex: 253054 entries, 0 to 253053\n",
      "Data columns (total 12 columns):\n",
      "user_name         253054 non-null object\n",
      "comment_time      253054 non-null datetime64[ns]\n",
      "user_id           253054 non-null object\n",
      "moviename         253054 non-null object\n",
      "type              253054 non-null object\n",
      "movie_id          253054 non-null object\n",
      "actor             253054 non-null object\n",
      "region            253054 non-null object\n",
      "director          253054 non-null object\n",
      "characteristic    253054 non-null object\n",
      "score_douban      253054 non-null float64\n",
      "rating            253054 non-null int64\n",
      "dtypes: datetime64[ns](1), float64(1), int64(1), object(9)\n",
      "memory usage: 23.2+ MB\n",
      "data info None\n",
      "data head\n",
      "   user_name        comment_time     user_id moviename type movie_id  \\\n",
      "0        佳宋 2018-01-05 17:24:27  User 14564     极限特工2   冒险     2284   \n",
      "1       萌妹纸 2018-01-05 15:40:40   User 8760      真爱无尽   奇幻     2617   \n",
      "2        金魚 2018-01-29 16:34:57  User 12681   小野猫吃大老虎   喜剧    17753   \n",
      "3     天亮说晚安 2018-01-30 12:31:48   User 9498  20 30 40   爱情     8074   \n",
      "4   Vincent 2018-01-22 13:10:37   User 5825      心的羽毛   剧情    12356   \n",
      "\n",
      "                                          actor region         director  \\\n",
      "0          艾斯·库珀|塞缪尔·杰克逊|威廉·达福|斯科特·斯比德曼|彼得·斯特劳斯     美国           李·塔玛霍瑞   \n",
      "1                阿丽克西斯·布莱德尔|乔纳森·杰克逊|威廉·赫特|本·金斯利     美国      Jay Russell   \n",
      "2                            歌蒂·韩|罗宾·莱弗里|斯薇兹·昆茨     美国           迈克尔·里奇   \n",
      "3                           张艾嘉|刘若英|李心洁|梁家辉|黄秋生     日本              张艾嘉   \n",
      "4  Sophie Museur|Francis Renaud|Ulysse de Swaef     法国  Thomas De Thier   \n",
      "\n",
      "  characteristic  score_douban  rating  \n",
      "0             经典           6.5      10  \n",
      "1             经典           7.4       8  \n",
      "2             青春           6.7      10  \n",
      "3             文艺           7.3       8  \n",
      "4             文艺           7.4       4  \n"
     ]
    }
   ],
   "source": [
    "def name_to_id():\n",
    "    movie_data_columns = [\n",
    "    'type', 'actor', 'region', 'director', 'characteristic',\n",
    "    'score', 'moviename']\n",
    "    movie_data = pd.read_csv(data_dir + './dataset1/movie.csv')\n",
    "    movie_data.columns = movie_data_columns\n",
    "    movie_unique = movie_data['moviename'].unique()\n",
    "    movie_name_to_uninque_index = dict()\n",
    "    movie_index_to_uninque_name = dict()\n",
    "    for  i,j in enumerate(movie_unique):\n",
    "        if i <=22971:\n",
    "            movie_name_to_uninque_index[j] = i\n",
    "            movie_index_to_uninque_name[i] = j\n",
    "        elif i > 22971:\n",
    "            print('error')\n",
    "    return movie_name_to_uninque_index,movie_index_to_uninque_name\n",
    "\n",
    "def load_movies_dataset():\n",
    "    movie_data_columns = [\n",
    "    'type', 'actor', 'region', 'director', 'characteristic',\n",
    "    'score_douban', 'moviename']\n",
    "    movie_data = pd.read_csv(data_dir + './dataset1/movie.csv')\n",
    "    print('movie_data\\n',movie_data.shape)\n",
    "    movie_data.columns = movie_data_columns    \n",
    "    movie_unique = movie_data['moviename'].unique()   \n",
    "    dict_name_to_id,dict_id_to_name = name_to_id( )    \n",
    "    movie_data['movie_id'] = movie_data['moviename'].map(lambda x:dict_name_to_id[x])\n",
    "    \n",
    "    return movie_data \n",
    "\n",
    "def load_user_and_ratings() :\n",
    "    user_data_columns = ['score_user','user_name','comment_time','user_id','moviename','type']\n",
    "    user_data = pd.read_csv(data_dir + './dataset1/user.csv')\n",
    "    print('user_data\\n',user_data.shape)\n",
    "    user_data.columns = user_data_columns\n",
    "    user_data['comment_time'] = pd.to_datetime(user_data['comment_time'])\n",
    "    dict_name_to_id,dict_id_to_name = name_to_id()   \n",
    "    user_data['movie_id'] = user_data['moviename'].map(lambda x:dict_name_to_id[x] if x in dict_name_to_id.keys() else '-1')\n",
    "    \n",
    "    return user_data \n",
    "\n",
    "\n",
    "def load_movielens() :  \n",
    "    user_data = load_user_and_ratings()\n",
    "    user_data['user_id'] = user_data['user_id'].map(lambda k: f\"User {k}\")\n",
    "    movies_data = load_movies_dataset()\n",
    "    ratings_and_movies  = pd.merge( user_data, movies_data ,on=['moviename','movie_id','type'])\n",
    "    ratings_and_movies['rating'] = ratings_and_movies['score_user']\n",
    "    del ratings_and_movies['score_user']\n",
    "    return ratings_and_movies.sample(frac=1).reset_index(drop=True)\n",
    "\n",
    "\n",
    "data_dir = 'D:/python/Jupyter_Last_project/dataset/'\n",
    "all_data_df = load_movielens()\n",
    "print('all_data\\n',all_data_df.shape)\n",
    "print('data info',all_data_df.info())\n",
    "print('data head\\n',all_data_df.head())"
   ]
  },
  {
   "cell_type": "code",
   "execution_count": 5,
   "metadata": {},
   "outputs": [
    {
     "name": "stdout",
     "output_type": "stream",
     "text": [
      "8     100946\n",
      "4      67663\n",
      "10     66404\n",
      "2      18023\n",
      "6         18\n",
      "Name: rating, dtype: int64\n",
      "7.5    9998\n",
      "7.3    9992\n",
      "7.6    9533\n",
      "7.4    9352\n",
      "7.7    8917\n",
      "       ... \n",
      "2.3     114\n",
      "2.2     109\n",
      "9.7      80\n",
      "2.1      52\n",
      "9.8       3\n",
      "Name: score_douban, Length: 78, dtype: int64\n"
     ]
    }
   ],
   "source": [
    "#用户的评分是 2 4 6 8 10\n",
    "\n",
    "print(all_data_df.rating.value_counts())\n",
    "#豆瓣的评分范围是7.3~10  暂不清楚豆瓣评分机制\n",
    "print(all_data_df.score_douban.value_counts())"
   ]
  },
  {
   "cell_type": "markdown",
   "metadata": {},
   "source": [
    "Exploring the  dataset \n",
    "Douban dataset\n",
    "user_data 用户评论数据\n",
    " (188843, 6)\n",
    "movie_data 电影数据 \n",
    " (89524, 7)\n",
    "all_data 拼接后的数据\n",
    " (741343, 13)\n",
    "  \n",
    " unique len 不重复电影个数\n",
    " 21722"
   ]
  },
  {
   "cell_type": "markdown",
   "metadata": {},
   "source": [
    "Training a SVD using Surprise in 4 simple steps"
   ]
  },
  {
   "cell_type": "code",
   "execution_count": 6,
   "metadata": {},
   "outputs": [
    {
     "name": "stdout",
     "output_type": "stream",
     "text": [
      "RMSE: 2.0068\n",
      "2.0068417022626788\n"
     ]
    }
   ],
   "source": [
    "from surprise import SVD\n",
    "from surprise import Dataset, Reader\n",
    "from surprise.model_selection import cross_validate, train_test_split\n",
    "from surprise import accuracy\n",
    "# Step 1: create a Reader.\n",
    "# A reader tells our SVD what the lower and upper bound of our ratings is.\n",
    "# MovieLens ratings are from 1 to 5\n",
    "reader = Reader(rating_scale=(1, 10))\n",
    "# Step 2: create a new Dataset instance with a DataFrame and the reader\n",
    "# The DataFrame needs to have 3 columns in this specific order: [user_id, product_id, rating]\n",
    "data = Dataset.load_from_df(all_data_df[['user_id','moviename','rating']], reader)\n",
    "# Step 3: keep 25% of your trainset for testing\n",
    "trainset, testset = train_test_split(data, test_size=.25)\n",
    "# Step 4: train a new SVD with 100 latent features (number was chosen arbitrarily)\n",
    "model = SVD(n_factors=200)\n",
    "model.fit(trainset)\n",
    "model.qi /= np.linalg.norm(model.qi, ord=2, axis=1).reshape(-1, 1)\n",
    "predictions = model.test(testset)\n",
    "\n",
    "# Then compute RMSE\n",
    "print(accuracy.rmse(predictions))"
   ]
  },
  {
   "cell_type": "code",
   "execution_count": 7,
   "metadata": {},
   "outputs": [
    {
     "name": "stdout",
     "output_type": "stream",
     "text": [
      "13537\n",
      "20750\n"
     ]
    }
   ],
   "source": [
    "print(trainset.n_users) # \n",
    "print(trainset.n_items) # "
   ]
  },
  {
   "cell_type": "markdown",
   "metadata": {},
   "source": [
    "Inspecting our Product Matrix \n",
    "Surprise SVD stores the product matrix under the model.qi attribute."
   ]
  },
  {
   "cell_type": "code",
   "execution_count": 8,
   "metadata": {},
   "outputs": [
    {
     "name": "stdout",
     "output_type": "stream",
     "text": [
      "model.qi.shape\n",
      " (20750, 200)\n"
     ]
    }
   ],
   "source": [
    "print('model.qi.shape\\n',model.qi.shape)"
   ]
  },
  {
   "cell_type": "markdown",
   "metadata": {},
   "source": [
    "Mapping every vector back to it's movie \n",
    "Every row is mapped to a movie. How do we map every movie to it's vector?"
   ]
  },
  {
   "cell_type": "code",
   "execution_count": 9,
   "metadata": {},
   "outputs": [
    {
     "name": "stdout",
     "output_type": "stream",
     "text": [
      "in display\n"
     ]
    },
    {
     "data": {
      "text/html": [
       "<div>\n",
       "<style scoped>\n",
       "    .dataframe tbody tr th:only-of-type {\n",
       "        vertical-align: middle;\n",
       "    }\n",
       "\n",
       "    .dataframe tbody tr th {\n",
       "        vertical-align: top;\n",
       "    }\n",
       "\n",
       "    .dataframe thead th {\n",
       "        text-align: right;\n",
       "    }\n",
       "</style>\n",
       "<table border=\"1\" class=\"dataframe\">\n",
       "  <thead>\n",
       "    <tr style=\"text-align: right;\">\n",
       "      <th></th>\n",
       "      <th>model.qi row idx</th>\n",
       "    </tr>\n",
       "    <tr>\n",
       "      <th>Movie name</th>\n",
       "      <th></th>\n",
       "    </tr>\n",
       "  </thead>\n",
       "  <tbody>\n",
       "    <tr>\n",
       "      <th>中国最后一个太监</th>\n",
       "      <td>0</td>\n",
       "    </tr>\n",
       "    <tr>\n",
       "      <th>母亲！</th>\n",
       "      <td>1</td>\n",
       "    </tr>\n",
       "    <tr>\n",
       "      <th>活尸的城堡</th>\n",
       "      <td>2</td>\n",
       "    </tr>\n",
       "    <tr>\n",
       "      <th>忍者乱太郎 暑假作业大作战！之段</th>\n",
       "      <td>3</td>\n",
       "    </tr>\n",
       "    <tr>\n",
       "      <th>关于恶女</th>\n",
       "      <td>4</td>\n",
       "    </tr>\n",
       "  </tbody>\n",
       "</table>\n",
       "</div>"
      ],
      "text/plain": [
       "                  model.qi row idx\n",
       "Movie name                        \n",
       "中国最后一个太监                         0\n",
       "母亲！                              1\n",
       "活尸的城堡                            2\n",
       "忍者乱太郎 暑假作业大作战！之段                 3\n",
       "关于恶女                             4"
      ]
     },
     "execution_count": 9,
     "metadata": {},
     "output_type": "execute_result"
    }
   ],
   "source": [
    "#返回的结果是 movie name 和内部的id\n",
    "def display(df ):\n",
    "    print('in display')\n",
    "    #print('list item_to_row_idx.items \\n',list(item_to_row_idx.items()))\n",
    "    #[('怪物大乱斗', 0), ('我想戴上戒指', 1), ('乌云背后的幸福线', 2), ('法官老爹', 3), ('千年追凶', 4), ('日出日落', 5)\n",
    "    item_to_row_idx_df = pd.DataFrame(\n",
    "        list(item_to_row_idx.items()),\n",
    "        columns=['Movie name', 'model.qi row idx'],\n",
    "    ).set_index('Movie name')\n",
    "    return item_to_row_idx_df.head(5)\n",
    "\n",
    "#print('model.trainset._raw2inner_id_items\\n',model.trainset._raw2inner_id_items)\n",
    "#{'怪物大乱斗': 0, '我想戴上戒指': 1, '乌云背后的幸福线': 2, '法官老爹': 3, '千年追凶': 4, '日出日落': 5,\n",
    "item_to_row_idx  = model.trainset._raw2inner_id_items\n",
    "\n",
    "# `display()` is a utility function to make `item_to_row_idx` more readable\n",
    "display(item_to_row_idx)"
   ]
  },
  {
   "cell_type": "markdown",
   "metadata": {},
   "source": [
    "Identifying One Movie"
   ]
  },
  {
   "cell_type": "code",
   "execution_count": 10,
   "metadata": {},
   "outputs": [
    {
     "name": "stdout",
     "output_type": "stream",
     "text": [
      "[ 0.14144005 -0.00410393  0.07910609  0.05002832  0.10511502  0.07465865\n",
      " -0.0243615   0.02741672  0.01787008  0.10048001  0.02520749  0.02591682\n",
      "  0.16779199 -0.00647828  0.04335985  0.03416477 -0.03607353 -0.02452203\n",
      " -0.05548903 -0.02594348  0.08805245 -0.01024728 -0.05666609 -0.08392388\n",
      " -0.04942402 -0.07051616 -0.10146397  0.09167373 -0.01748571 -0.02919874\n",
      "  0.08560237 -0.10585175 -0.14235175  0.03215912  0.01640436  0.07924654\n",
      " -0.04800492 -0.00124989 -0.04758321  0.00338165 -0.00527807  0.02206229\n",
      "  0.0174934  -0.08959726  0.12011462 -0.10501012 -0.00404565 -0.00560562\n",
      "  0.01869081 -0.043857   -0.04461003 -0.01520467  0.0455597  -0.10625512\n",
      " -0.06621415 -0.05306128 -0.11781278  0.0915248   0.07275846 -0.0089562\n",
      "  0.12468439 -0.03818936  0.02936205 -0.08812495  0.12443781 -0.11379569\n",
      "  0.06802886  0.05327685 -0.06503029  0.11422278 -0.09767897 -0.06017931\n",
      " -0.14784159 -0.02400457 -0.03283592 -0.06803498 -0.04181446  0.02357049\n",
      " -0.04612731  0.07911536  0.00550872  0.07745877  0.02559214 -0.01294306\n",
      "  0.02110402 -0.02723003 -0.11528638  0.03507397  0.12709466  0.0230906\n",
      "  0.0101021  -0.05075998 -0.14097462 -0.0908078  -0.07936217 -0.00736052\n",
      "  0.0306883  -0.03215683  0.0347123  -0.02790964 -0.04184409  0.05796418\n",
      " -0.01955241  0.05849019  0.03514221 -0.0136281   0.01047092  0.00441286\n",
      " -0.05752248 -0.03675925  0.06695302 -0.12165583 -0.00317959 -0.04269202\n",
      " -0.06885345 -0.02696168 -0.09381807 -0.00798387 -0.11208909  0.09660467\n",
      " -0.09827192 -0.13183322  0.11701761  0.0679717   0.04980739  0.05965906\n",
      " -0.0086747   0.1611682   0.21437089 -0.12711522  0.00699559 -0.00387691\n",
      " -0.02641248 -0.06433749 -0.03294152  0.04805112 -0.10101357  0.06639925\n",
      "  0.15509615  0.03919775 -0.00120281  0.05385571 -0.0403812  -0.00956862\n",
      "  0.06248509  0.01053968  0.0920504  -0.04616255 -0.02276079 -0.09465699\n",
      "  0.06390867 -0.10538991 -0.02261055 -0.11244658 -0.00365222  0.05981672\n",
      " -0.04658873 -0.03396352 -0.00854371 -0.02768881  0.00054058  0.11511948\n",
      " -0.06376126 -0.10592435 -0.06232922 -0.11886193 -0.00270141 -0.01412777\n",
      "  0.0559251   0.13100379  0.06520207  0.09594934  0.10017273  0.04624929\n",
      " -0.03683044  0.05976667  0.07880662  0.03783929  0.00169774 -0.05930853\n",
      " -0.07619249  0.02109212 -0.0329368  -0.02946463 -0.11358166 -0.0479554\n",
      "  0.02122636 -0.09759671 -0.00451818  0.0360626   0.00747354 -0.00717082\n",
      " -0.05278036 -0.01747513 -0.12593535 -0.09143595  0.0511737  -0.00735517\n",
      "  0.04308153 -0.09651803]\n",
      "Every product has 200 features\n"
     ]
    }
   ],
   "source": [
    "#通过电影名得到内部id\n",
    "toy_story_row_idx  = item_to_row_idx['千年追凶']\n",
    "#得到内部id 对应的向量\n",
    "print(model.qi[toy_story_row_idx])\n",
    "print(f\"Every product has {model.qi[toy_story_row_idx].shape[0]} features\")"
   ]
  },
  {
   "cell_type": "markdown",
   "metadata": {},
   "source": [
    "Recommendations via Product based CF: Finding similarity between vectors \n",
    "2 products are \"similar\" when the cosine distance is close to 0\n",
    "#一个向量空间中两个向量夹角间的余弦值作为衡量两个个体之间差异的大小，\n",
    "#余弦值接近1，夹角趋于0，表明两个向量越相似，\n",
    "#余弦值接近于0，夹角趋于90度，表明两个向量越不相似。\n",
    "#scipy.spatial.distance.cosine(u，v) 中\n",
    "#余弦值接近0，夹角趋于0，表明两个向量越相似，\n",
    "#余弦值接近于1，夹角趋于90度，表明两个向量越不相似。\n",
    "#u和v之间的余弦距离定义为：1 - u .v / \\\\u\\\\ \\\\v\\\\"
   ]
  },
  {
   "cell_type": "markdown",
   "metadata": {},
   "source": [
    "### 通过矩阵重构进行推荐"
   ]
  },
  {
   "cell_type": "markdown",
   "metadata": {},
   "source": [
    "#### Recommendations via Matrix Reconstruction\n",
    "\n",
    "Use cases:\n",
    "Predict a score between any combination of user and a product\n",
    "\n",
    "Recommendations via Matrix Reconstruction: Using the predict() API inside of Surprise\n",
    "    \n",
    "Computes the rating prediction for given user and movie with model.predict(). \n",
    "Pick a random user and movie, and calculate the score between them\n"
   ]
  },
  {
   "cell_type": "code",
   "execution_count": 11,
   "metadata": {},
   "outputs": [
    {
     "name": "stdout",
     "output_type": "stream",
     "text": [
      "Index(['user_name', 'comment_time', 'user_id', 'moviename', 'type', 'movie_id',\n",
      "       'actor', 'region', 'director', 'characteristic', 'score_douban',\n",
      "       'rating'],\n",
      "      dtype='object')\n"
     ]
    },
    {
     "data": {
      "text/html": [
       "<div>\n",
       "<style scoped>\n",
       "    .dataframe tbody tr th:only-of-type {\n",
       "        vertical-align: middle;\n",
       "    }\n",
       "\n",
       "    .dataframe tbody tr th {\n",
       "        vertical-align: top;\n",
       "    }\n",
       "\n",
       "    .dataframe thead th {\n",
       "        text-align: right;\n",
       "    }\n",
       "</style>\n",
       "<table border=\"1\" class=\"dataframe\">\n",
       "  <thead>\n",
       "    <tr style=\"text-align: right;\">\n",
       "      <th></th>\n",
       "      <th>user_id</th>\n",
       "      <th>moviename</th>\n",
       "      <th>rating</th>\n",
       "    </tr>\n",
       "  </thead>\n",
       "  <tbody>\n",
       "    <tr>\n",
       "      <th>0</th>\n",
       "      <td>User 14564</td>\n",
       "      <td>极限特工2</td>\n",
       "      <td>10</td>\n",
       "    </tr>\n",
       "    <tr>\n",
       "      <th>1</th>\n",
       "      <td>User 8760</td>\n",
       "      <td>真爱无尽</td>\n",
       "      <td>8</td>\n",
       "    </tr>\n",
       "    <tr>\n",
       "      <th>2</th>\n",
       "      <td>User 12681</td>\n",
       "      <td>小野猫吃大老虎</td>\n",
       "      <td>10</td>\n",
       "    </tr>\n",
       "    <tr>\n",
       "      <th>3</th>\n",
       "      <td>User 9498</td>\n",
       "      <td>20 30 40</td>\n",
       "      <td>8</td>\n",
       "    </tr>\n",
       "    <tr>\n",
       "      <th>4</th>\n",
       "      <td>User 5825</td>\n",
       "      <td>心的羽毛</td>\n",
       "      <td>4</td>\n",
       "    </tr>\n",
       "    <tr>\n",
       "      <th>5</th>\n",
       "      <td>User 30140</td>\n",
       "      <td>去年冬天</td>\n",
       "      <td>10</td>\n",
       "    </tr>\n",
       "    <tr>\n",
       "      <th>6</th>\n",
       "      <td>User 615</td>\n",
       "      <td>索女罗拉</td>\n",
       "      <td>4</td>\n",
       "    </tr>\n",
       "    <tr>\n",
       "      <th>7</th>\n",
       "      <td>User 63873</td>\n",
       "      <td>十分钟年华老去：大提琴篇</td>\n",
       "      <td>4</td>\n",
       "    </tr>\n",
       "    <tr>\n",
       "      <th>8</th>\n",
       "      <td>User 38237</td>\n",
       "      <td>听见天堂</td>\n",
       "      <td>8</td>\n",
       "    </tr>\n",
       "    <tr>\n",
       "      <th>9</th>\n",
       "      <td>User 4279</td>\n",
       "      <td>1985年中央电视台春节联欢晚会</td>\n",
       "      <td>8</td>\n",
       "    </tr>\n",
       "  </tbody>\n",
       "</table>\n",
       "</div>"
      ],
      "text/plain": [
       "      user_id         moviename  rating\n",
       "0  User 14564             极限特工2      10\n",
       "1   User 8760              真爱无尽       8\n",
       "2  User 12681           小野猫吃大老虎      10\n",
       "3   User 9498          20 30 40       8\n",
       "4   User 5825              心的羽毛       4\n",
       "5  User 30140              去年冬天      10\n",
       "6    User 615              索女罗拉       4\n",
       "7  User 63873      十分钟年华老去：大提琴篇       4\n",
       "8  User 38237              听见天堂       8\n",
       "9   User 4279  1985年中央电视台春节联欢晚会       8"
      ]
     },
     "execution_count": 11,
     "metadata": {},
     "output_type": "execute_result"
    }
   ],
   "source": [
    "# Refresher: ratings data-frame.\n",
    "print(all_data_df.columns)\n",
    "a1 = all_data_df[['user_id','moviename','rating']]\n",
    "a1.head(10)"
   ]
  },
  {
   "cell_type": "code",
   "execution_count": 12,
   "metadata": {},
   "outputs": [
    {
     "data": {
      "text/plain": [
       "Prediction(uid='User 15668', iid='梁祝', r_ui=None, est=6.294317759553696, details={'was_impossible': False})"
      ]
     },
     "execution_count": 12,
     "metadata": {},
     "output_type": "execute_result"
    }
   ],
   "source": [
    "a_user = \"User 15668\"\n",
    "a_product = \"梁祝\"\n",
    "model.predict(a_user, a_product)"
   ]
  },
  {
   "cell_type": "markdown",
   "metadata": {},
   "source": [
    "### 通过基础CF 进行推荐：查找向量之间的相似度"
   ]
  },
  {
   "cell_type": "markdown",
   "metadata": {},
   "source": [
    "Item-based collaborative filtering\n",
    "Recommendations via Item Similarity: Finding similarity between vectors\n",
    "2 products are \"similar\" when the cosine distance is close to 0"
   ]
  },
  {
   "cell_type": "code",
   "execution_count": 13,
   "metadata": {},
   "outputs": [],
   "source": [
    "#这里的cosine是余弦距离，也就是1-余弦相似度\n",
    "from scipy.spatial.distance import cosine\n",
    "\n",
    "#通过电影名得到内部id\n",
    "#返回值：内部id 对应的向量\n",
    "def get_vector_by_movie_title(movie_title ,trained_model )  :\n",
    "    \"\"\"Returns the latent features of a movie in the form of a numpy array\"\"\"\n",
    "    movie_row_idx = trained_model.trainset._raw2inner_id_items[movie_title]\n",
    "    return trained_model.qi[movie_row_idx]\n",
    "\n",
    "\n",
    "def cosine_distance(vector_a , vector_b ) :\n",
    "    \"\"\"Returns a float indicating the similarity between two vectors\"\"\"\n",
    "    return cosine(vector_a, vector_b)"
   ]
  },
  {
   "cell_type": "code",
   "execution_count": 14,
   "metadata": {},
   "outputs": [
    {
     "name": "stdout",
     "output_type": "stream",
     "text": [
      "1.0432872133000166\n",
      "1.081955409844456\n"
     ]
    }
   ],
   "source": [
    "from scipy.spatial.distance import cosine as cosine_distance\n",
    "\n",
    "# Fetch indices for Toy Story and Wizard of Oz\n",
    "djs_idx = model.trainset._raw2inner_id_items['独角兽']\n",
    "hy_idx = model.trainset._raw2inner_id_items['后裔']\n",
    "westar_idx = model.trainset._raw2inner_id_items['我们的追星之路']\n",
    "\n",
    "# Get vectors for both movies\n",
    "starwars_vector = model.qi[djs_idx]\n",
    "return_of_jedi_vector = model.qi[hy_idx]\n",
    "aladdin_vector = model.qi[westar_idx]\n",
    "# Distance 1\n",
    "print(cosine_distance(starwars_vector, return_of_jedi_vector))\n",
    "# Distance 2\n",
    "print(cosine_distance(starwars_vector, aladdin_vector))"
   ]
  },
  {
   "cell_type": "markdown",
   "metadata": {},
   "source": [
    "### Finding similar movies by ranking"
   ]
  },
  {
   "cell_type": "code",
   "execution_count": 15,
   "metadata": {},
   "outputs": [],
   "source": [
    "def display_similarity(similarity_table):\n",
    "    similarity_table = pd.DataFrame(\n",
    "        similarity_table,\n",
    "        columns=['vector cosine distance', 'movie title']\n",
    "    ).sort_values('vector cosine distance', ascending=True)\n",
    "    return similarity_table.iloc[:6]"
   ]
  },
  {
   "cell_type": "code",
   "execution_count": 16,
   "metadata": {},
   "outputs": [],
   "source": [
    "def get_top_similarities(movie_title , model ):\n",
    "    \"\"\"Returns the top 5 most similar movies to a specified movie\n",
    "    \n",
    "    This function iterates over every possible movie in MovieLens and calculates\n",
    "    distance between `movie_title` vector and that movie's vector.\n",
    "    \"\"\"\n",
    "    \n",
    "    # Get the first movie vector\n",
    "    #通过电影名得到内部id\n",
    "    #返回值：内部id 对应的向量\n",
    "    movie_vector  = get_vector_by_movie_title(movie_title, model)\n",
    "    similarity_table = []\n",
    "    \n",
    "    # Iterate over every possible movie and calculate similarity\n",
    "    #print('model.trainset._raw2inner_id_items\\n',model.trainset._raw2inner_id_items)\n",
    "    #dict '怪物大乱斗': 0, '我想戴上戒指': 1, '乌云背后的幸福线': 2, '法官老爹': 3, '千年追凶': 4, \n",
    "    #key 电影名  value  内部id（inner id）\n",
    "    for other_movie_title in model.trainset._raw2inner_id_items.keys():\n",
    "        other_movie_vector = get_vector_by_movie_title(other_movie_title, model)   \n",
    "        # Get the second movie vector, and calculate distance\n",
    "        similarity_score = cosine_distance(other_movie_vector, movie_vector)\n",
    "        similarity_table.append((similarity_score, other_movie_title))\n",
    "\n",
    "    #列表的每个元素是元组 （相似度，电影名）\n",
    "    print('similarity_table len\\n',len(similarity_table))\n",
    "    \n",
    "    # sort movies by ascending similarity\n",
    "    return display_similarity(sorted(similarity_table))"
   ]
  },
  {
   "cell_type": "code",
   "execution_count": 17,
   "metadata": {},
   "outputs": [
    {
     "name": "stdout",
     "output_type": "stream",
     "text": [
      "similarity_table len\n",
      " 20750\n"
     ]
    },
    {
     "data": {
      "text/html": [
       "<div>\n",
       "<style scoped>\n",
       "    .dataframe tbody tr th:only-of-type {\n",
       "        vertical-align: middle;\n",
       "    }\n",
       "\n",
       "    .dataframe tbody tr th {\n",
       "        vertical-align: top;\n",
       "    }\n",
       "\n",
       "    .dataframe thead th {\n",
       "        text-align: right;\n",
       "    }\n",
       "</style>\n",
       "<table border=\"1\" class=\"dataframe\">\n",
       "  <thead>\n",
       "    <tr style=\"text-align: right;\">\n",
       "      <th></th>\n",
       "      <th>vector cosine distance</th>\n",
       "      <th>movie title</th>\n",
       "    </tr>\n",
       "  </thead>\n",
       "  <tbody>\n",
       "    <tr>\n",
       "      <th>0</th>\n",
       "      <td>0.000000</td>\n",
       "      <td>王牌对王牌</td>\n",
       "    </tr>\n",
       "    <tr>\n",
       "      <th>1</th>\n",
       "      <td>0.718639</td>\n",
       "      <td>魔法科高校的劣等生 呼唤星辰的少女</td>\n",
       "    </tr>\n",
       "    <tr>\n",
       "      <th>2</th>\n",
       "      <td>0.750206</td>\n",
       "      <td>麦兜</td>\n",
       "    </tr>\n",
       "    <tr>\n",
       "      <th>3</th>\n",
       "      <td>0.755203</td>\n",
       "      <td>选秀日</td>\n",
       "    </tr>\n",
       "    <tr>\n",
       "      <th>4</th>\n",
       "      <td>0.756501</td>\n",
       "      <td>深谷尸变</td>\n",
       "    </tr>\n",
       "    <tr>\n",
       "      <th>5</th>\n",
       "      <td>0.757208</td>\n",
       "      <td>拳击烈女</td>\n",
       "    </tr>\n",
       "  </tbody>\n",
       "</table>\n",
       "</div>"
      ],
      "text/plain": [
       "   vector cosine distance        movie title\n",
       "0                0.000000              王牌对王牌\n",
       "1                0.718639  魔法科高校的劣等生 呼唤星辰的少女\n",
       "2                0.750206                 麦兜\n",
       "3                0.755203                选秀日\n",
       "4                0.756501               深谷尸变\n",
       "5                0.757208               拳击烈女"
      ]
     },
     "execution_count": 17,
     "metadata": {},
     "output_type": "execute_result"
    }
   ],
   "source": [
    "get_top_similarities('王牌对王牌', model)"
   ]
  },
  {
   "cell_type": "code",
   "execution_count": null,
   "metadata": {},
   "outputs": [],
   "source": []
  },
  {
   "cell_type": "code",
   "execution_count": null,
   "metadata": {},
   "outputs": [],
   "source": []
  },
  {
   "cell_type": "code",
   "execution_count": null,
   "metadata": {},
   "outputs": [],
   "source": []
  }
 ],
 "metadata": {
  "kernelspec": {
   "display_name": "Python [conda env:py36]",
   "language": "python",
   "name": "conda-env-py36-py"
  },
  "language_info": {
   "codemirror_mode": {
    "name": "ipython",
    "version": 3
   },
   "file_extension": ".py",
   "mimetype": "text/x-python",
   "name": "python",
   "nbconvert_exporter": "python",
   "pygments_lexer": "ipython3",
   "version": "3.6.12"
  }
 },
 "nbformat": 4,
 "nbformat_minor": 4
}
