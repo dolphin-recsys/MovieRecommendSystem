{
 "cells": [
  {
   "cell_type": "code",
   "execution_count": 2,
   "metadata": {},
   "outputs": [],
   "source": [
    "import random\n",
    "import numpy as np\n",
    "\n",
    "my_seed = 1337\n",
    "random.seed(my_seed)\n",
    "np.random.seed(my_seed)\n",
    "import pandas as pd\n",
    "import numpy as np\n",
    "from typing import *\n",
    "from IPython.display import display, HTML, Markdown\n",
    "\n",
    "import warnings\n",
    "warnings.filterwarnings('ignore')"
   ]
  },
  {
   "cell_type": "markdown",
   "metadata": {},
   "source": [
    "### 数据读取与合并"
   ]
  },
  {
   "cell_type": "code",
   "execution_count": 3,
   "metadata": {},
   "outputs": [
    {
     "name": "stdout",
     "output_type": "stream",
     "text": [
      "user_data\n",
      " (188843, 6)\n",
      "movie_data\n",
      " (89524, 7)\n",
      "all_data\n",
      " (741343, 13)\n",
      "<class 'pandas.core.frame.DataFrame'>\n",
      "RangeIndex: 741343 entries, 0 to 741342\n",
      "Data columns (total 13 columns):\n",
      "user_name         741343 non-null object\n",
      "comment_time      741343 non-null datetime64[ns]\n",
      "user_id           741343 non-null object\n",
      "moviename         741343 non-null object\n",
      "type_user         741343 non-null object\n",
      "movie_id          741343 non-null object\n",
      "type_douban       741343 non-null object\n",
      "actor             741343 non-null object\n",
      "region            741343 non-null object\n",
      "director          741343 non-null object\n",
      "characteristic    741343 non-null object\n",
      "score_douban      741343 non-null float64\n",
      "rating            741343 non-null int64\n",
      "dtypes: datetime64[ns](1), float64(1), int64(1), object(10)\n",
      "memory usage: 73.5+ MB\n",
      "data info None\n",
      "data head\n",
      "     user_name        comment_time     user_id   moviename type_user movie_id  \\\n",
      "0  motivation 2018-01-28 15:08:21  User 23502      你好，陌生人        爱情    14912   \n",
      "1          阿卜 2018-01-23 21:22:58  User 26682  死神有约：死后的生活        奇幻     5423   \n",
      "2        搬砖少年 2018-02-07 21:48:50   User 3249       精灵旅社2        奇幻    17856   \n",
      "3          多多 2018-01-22 13:15:50   User 4874        盲者之国        科幻    10715   \n",
      "4         鸭锁骨 2018-01-29 14:35:42   User 1650     安娜·卡列尼娜        历史    15127   \n",
      "\n",
      "  type_douban                                  actor region        director  \\\n",
      "0          爱情               辰塔维·塔纳西维|能提妲·索彭|瓦拉缇雅·妮枯哈     泰国        班庄·比辛达拿刚   \n",
      "1          恐怖  亨利·伊安·库斯克|艾伦·穆斯|卡鲁姆·布鲁|莎拉·温特|辛西娅·斯蒂文森     美国         斯蒂芬·赫瑞克   \n",
      "2          爱情  亚当·桑德勒|安迪·萨姆伯格|赛琳娜·戈麦斯|阿什·布林克夫|凯文·詹姆斯     美国      格恩迪·塔塔科夫斯基   \n",
      "3          剧情                 拉尔夫·费因斯|唐纳德·萨瑟兰|汤姆·霍兰德     英国  Robert Edwards   \n",
      "4          传记  凯拉·奈特莉|裘德·洛|米歇尔·道克瑞|凯莉·麦克唐纳|亚伦·泰勒-约翰逊     法国            乔·赖特   \n",
      "\n",
      "  characteristic  score_douban  rating  \n",
      "0             经典           7.7      10  \n",
      "1             魔幻           5.9       8  \n",
      "2             搞笑           7.5       8  \n",
      "3             经典           8.2       2  \n",
      "4             女性           7.1       8  \n"
     ]
    }
   ],
   "source": [
    "def name_to_id():\n",
    "    movie_data_columns = [\n",
    "    'type_douban', 'actor', 'region', 'director', 'characteristic',\n",
    "    'score', 'moviename']\n",
    "    movie_data = pd.read_csv(data_dir + './dataset1/movie.csv')\n",
    "    movie_data.columns = movie_data_columns\n",
    "    movie_unique = movie_data['moviename'].unique()\n",
    "    movie_name_to_uninque_index = dict()\n",
    "    movie_index_to_uninque_name = dict()\n",
    "    for  i,j in enumerate(movie_unique):\n",
    "        if i <=22971:\n",
    "            movie_name_to_uninque_index[j] = i\n",
    "            movie_index_to_uninque_name[i] = j\n",
    "        elif i > 22971:\n",
    "            print('error')\n",
    "    return movie_name_to_uninque_index,movie_index_to_uninque_name\n",
    "\n",
    "def load_movies_dataset():\n",
    "    movie_data_columns = [\n",
    "    'type_douban', 'actor', 'region', 'director', 'characteristic',\n",
    "    'score_douban', 'moviename']\n",
    "    movie_data = pd.read_csv(data_dir + './dataset1/movie.csv')\n",
    "    print('movie_data\\n',movie_data.shape)\n",
    "    movie_data.columns = movie_data_columns    \n",
    "    movie_unique = movie_data['moviename'].unique()   \n",
    "    dict_name_to_id,dict_id_to_name = name_to_id( )    \n",
    "    movie_data['movie_id'] = movie_data['moviename'].map(lambda x:dict_name_to_id[x])\n",
    "    \n",
    "    return movie_data \n",
    "\n",
    "def load_user_and_ratings() :\n",
    "    user_data_columns = ['score_user','user_name','comment_time','user_id','moviename','type_user']\n",
    "    user_data = pd.read_csv(data_dir + './dataset1/user.csv')\n",
    "    print('user_data\\n',user_data.shape)\n",
    "    user_data.columns = user_data_columns\n",
    "    user_data['comment_time'] = pd.to_datetime(user_data['comment_time'])\n",
    "    dict_name_to_id,dict_id_to_name = name_to_id()   \n",
    "    user_data['movie_id'] = user_data['moviename'].map(lambda x:dict_name_to_id[x] if x in dict_name_to_id.keys() else '-1')\n",
    "    \n",
    "    return user_data \n",
    "\n",
    "\n",
    "def load_movielens() :  \n",
    "    user_data = load_user_and_ratings()\n",
    "    user_data['user_id'] = user_data['user_id'].map(lambda k: f\"User {k}\")\n",
    "    movies_data = load_movies_dataset()\n",
    "    ratings_and_movies  = pd.merge( user_data, movies_data ,on=['moviename','movie_id'])\n",
    "    ratings_and_movies['rating'] = ratings_and_movies['score_user']\n",
    "    del ratings_and_movies['score_user']\n",
    "    return ratings_and_movies.sample(frac=1).reset_index(drop=True)\n",
    "\n",
    "\n",
    "data_dir = 'D:/python/Jupyter_Last_project/dataset/'\n",
    "all_data_df = load_movielens()\n",
    "print('all_data\\n',all_data_df.shape)\n",
    "print('data info',all_data_df.info())\n",
    "print('data head\\n',all_data_df.head())"
   ]
  },
  {
   "cell_type": "code",
   "execution_count": 4,
   "metadata": {},
   "outputs": [
    {
     "name": "stdout",
     "output_type": "stream",
     "text": [
      "8     295400\n",
      "4     198297\n",
      "10    195029\n",
      "2      52570\n",
      "6         47\n",
      "Name: rating, dtype: int64\n",
      "7.3    29551\n",
      "7.5    28607\n",
      "7.6    26888\n",
      "7.4    26036\n",
      "7.7    26033\n",
      "       ...  \n",
      "2.3      391\n",
      "2.2      365\n",
      "2.1      125\n",
      "9.7      115\n",
      "9.8        9\n",
      "Name: score_douban, Length: 78, dtype: int64\n"
     ]
    }
   ],
   "source": [
    "#用户的评分是 2 4 6 8 10\n",
    "\n",
    "print(all_data_df.rating.value_counts())\n",
    "#豆瓣的评分范围是7.3~10  暂不清楚豆瓣评分机制\n",
    "print(all_data_df.score_douban.value_counts())"
   ]
  },
  {
   "cell_type": "markdown",
   "metadata": {},
   "source": [
    "Exploring the  dataset \n",
    "Douban dataset\n",
    "user_data 用户评论数据\n",
    " (188843, 6)\n",
    "movie_data 电影数据 \n",
    " (89524, 7)\n",
    "all_data 拼接后的数据\n",
    " (741343, 13)\n",
    "  \n",
    " unique len 不重复电影个数\n",
    " 21722"
   ]
  },
  {
   "cell_type": "markdown",
   "metadata": {},
   "source": [
    "Training a SVD using Surprise in 4 simple steps"
   ]
  },
  {
   "cell_type": "code",
   "execution_count": 5,
   "metadata": {},
   "outputs": [],
   "source": [
    "from surprise import SVD\n",
    "from surprise import Dataset, Reader\n",
    "from surprise.model_selection import cross_validate, train_test_split\n",
    "\n",
    "# Step 1: create a Reader.\n",
    "# A reader tells our SVD what the lower and upper bound of our ratings is.\n",
    "# MovieLens ratings are from 1 to 5\n",
    "reader = Reader(rating_scale=(1, 10))\n",
    "# Step 2: create a new Dataset instance with a DataFrame and the reader\n",
    "# The DataFrame needs to have 3 columns in this specific order: [user_id, product_id, rating]\n",
    "data = Dataset.load_from_df(all_data_df[['user_id','moviename','rating']], reader)\n",
    "# Step 3: keep 25% of your trainset for testing\n",
    "trainset, testset = train_test_split(data, test_size=.25)\n",
    "# Step 4: train a new SVD with 100 latent features (number was chosen arbitrarily)\n",
    "model = SVD(n_factors=500)\n",
    "model.fit(trainset)\n",
    "model.qi /= np.linalg.norm(model.qi, ord=2, axis=1).reshape(-1, 1)\n"
   ]
  },
  {
   "cell_type": "code",
   "execution_count": 9,
   "metadata": {},
   "outputs": [
    {
     "name": "stdout",
     "output_type": "stream",
     "text": [
      "13545\n",
      "21713\n"
     ]
    }
   ],
   "source": [
    "print(trainset.n_users) # \n",
    "print(trainset.n_items) # "
   ]
  },
  {
   "cell_type": "markdown",
   "metadata": {},
   "source": [
    "Inspecting our Product Matrix \n",
    "Surprise SVD stores the product matrix under the model.qi attribute."
   ]
  },
  {
   "cell_type": "code",
   "execution_count": 10,
   "metadata": {},
   "outputs": [
    {
     "name": "stdout",
     "output_type": "stream",
     "text": [
      "model.qi.shape\n",
      " (21713, 500)\n"
     ]
    }
   ],
   "source": [
    "print('model.qi.shape\\n',model.qi.shape)"
   ]
  },
  {
   "cell_type": "markdown",
   "metadata": {},
   "source": [
    "Mapping every vector back to it's movie \n",
    "Every row is mapped to a movie. How do we map every movie to it's vector?"
   ]
  },
  {
   "cell_type": "code",
   "execution_count": 11,
   "metadata": {},
   "outputs": [
    {
     "name": "stdout",
     "output_type": "stream",
     "text": [
      "in display\n"
     ]
    },
    {
     "data": {
      "text/html": [
       "<div>\n",
       "<style scoped>\n",
       "    .dataframe tbody tr th:only-of-type {\n",
       "        vertical-align: middle;\n",
       "    }\n",
       "\n",
       "    .dataframe tbody tr th {\n",
       "        vertical-align: top;\n",
       "    }\n",
       "\n",
       "    .dataframe thead th {\n",
       "        text-align: right;\n",
       "    }\n",
       "</style>\n",
       "<table border=\"1\" class=\"dataframe\">\n",
       "  <thead>\n",
       "    <tr style=\"text-align: right;\">\n",
       "      <th></th>\n",
       "      <th>model.qi row idx</th>\n",
       "    </tr>\n",
       "    <tr>\n",
       "      <th>Movie name</th>\n",
       "      <th></th>\n",
       "    </tr>\n",
       "  </thead>\n",
       "  <tbody>\n",
       "    <tr>\n",
       "      <th>天生一对</th>\n",
       "      <td>0</td>\n",
       "    </tr>\n",
       "    <tr>\n",
       "      <th>金猴降妖</th>\n",
       "      <td>1</td>\n",
       "    </tr>\n",
       "    <tr>\n",
       "      <th>足球流氓2</th>\n",
       "      <td>2</td>\n",
       "    </tr>\n",
       "    <tr>\n",
       "      <th>冲线</th>\n",
       "      <td>3</td>\n",
       "    </tr>\n",
       "    <tr>\n",
       "      <th>伊丽莎白女王</th>\n",
       "      <td>4</td>\n",
       "    </tr>\n",
       "  </tbody>\n",
       "</table>\n",
       "</div>"
      ],
      "text/plain": [
       "            model.qi row idx\n",
       "Movie name                  \n",
       "天生一对                       0\n",
       "金猴降妖                       1\n",
       "足球流氓2                      2\n",
       "冲线                         3\n",
       "伊丽莎白女王                     4"
      ]
     },
     "execution_count": 11,
     "metadata": {},
     "output_type": "execute_result"
    }
   ],
   "source": [
    "#返回的结果是 movie name 和内部的id\n",
    "def display(df ):\n",
    "    print('in display')\n",
    "    #print('list item_to_row_idx.items \\n',list(item_to_row_idx.items()))\n",
    "    #[('怪物大乱斗', 0), ('我想戴上戒指', 1), ('乌云背后的幸福线', 2), ('法官老爹', 3), ('千年追凶', 4), ('日出日落', 5)\n",
    "    item_to_row_idx_df = pd.DataFrame(\n",
    "        list(item_to_row_idx.items()),\n",
    "        columns=['Movie name', 'model.qi row idx'],\n",
    "    ).set_index('Movie name')\n",
    "    return item_to_row_idx_df.head(5)\n",
    "\n",
    "#print('model.trainset._raw2inner_id_items\\n',model.trainset._raw2inner_id_items)\n",
    "#{'怪物大乱斗': 0, '我想戴上戒指': 1, '乌云背后的幸福线': 2, '法官老爹': 3, '千年追凶': 4, '日出日落': 5,\n",
    "item_to_row_idx  = model.trainset._raw2inner_id_items\n",
    "\n",
    "# `display()` is a utility function to make `item_to_row_idx` more readable\n",
    "display(item_to_row_idx)"
   ]
  },
  {
   "cell_type": "markdown",
   "metadata": {},
   "source": [
    "Identifying One Movie"
   ]
  },
  {
   "cell_type": "code",
   "execution_count": 12,
   "metadata": {},
   "outputs": [
    {
     "name": "stdout",
     "output_type": "stream",
     "text": [
      "[ 0.06708249 -0.03359497  0.01241809 -0.06068376 -0.04465307 -0.00852593\n",
      " -0.00835702 -0.03900419  0.07558425 -0.01974827  0.01298504 -0.01880654\n",
      "  0.00223658  0.03467793  0.02046255 -0.02462105  0.02018613 -0.03683823\n",
      "  0.00641584 -0.04048825  0.07525549  0.0015886  -0.0712667   0.00647445\n",
      "  0.00885059  0.04188474 -0.11382149  0.07007796 -0.021578   -0.04413305\n",
      "  0.08679129  0.00405458 -0.14782927 -0.00950791  0.01017926  0.01348034\n",
      " -0.04427064  0.03446703  0.02494388  0.04166583 -0.03141376  0.00633216\n",
      " -0.00595752 -0.00556378 -0.03061609 -0.06447097 -0.01458042  0.00557085\n",
      " -0.03148697  0.02210945 -0.00084704  0.04556318 -0.00595579  0.03467261\n",
      " -0.01197627 -0.03121101 -0.00035471  0.03439907 -0.00386581  0.00283253\n",
      " -0.00918372 -0.06795416  0.03975184 -0.11276918 -0.01508408 -0.01560972\n",
      "  0.04678589 -0.03293708 -0.01844393 -0.00923351 -0.02008604 -0.06874187\n",
      "  0.0063792   0.05083313  0.1282675   0.01227655  0.0404464  -0.04007536\n",
      "  0.01786248  0.02603841 -0.00717236 -0.00325517  0.00994187  0.02064517\n",
      " -0.07249904  0.09416199  0.04204716  0.02324546  0.02905603 -0.01497949\n",
      " -0.03386412  0.03625334 -0.01313676  0.01672954  0.06011244  0.02326816\n",
      " -0.01011259 -0.06200117  0.05763386  0.00879414  0.06454086 -0.01959372\n",
      " -0.03241394  0.00938085  0.06326601  0.05360798 -0.00266373  0.0555726\n",
      "  0.01658226 -0.00183472  0.03054266 -0.04320876  0.08025669  0.05246979\n",
      "  0.03904227 -0.05452625 -0.10477171 -0.08479981 -0.0104047   0.04922115\n",
      "  0.02194002  0.05845525  0.05896677 -0.08880053  0.02957343  0.0315771\n",
      " -0.05022088 -0.01212605  0.02857585  0.0136111   0.06095454  0.08492419\n",
      " -0.00966317 -0.01376856  0.00287468  0.00225106  0.03242154 -0.03612383\n",
      " -0.03748262  0.101983   -0.01710653 -0.04691916  0.00514141 -0.04289973\n",
      "  0.01697418  0.0077568   0.0352461  -0.09449964 -0.00212934  0.03029352\n",
      "  0.08082207  0.01245685 -0.09329817 -0.00103034  0.0026681   0.00678001\n",
      " -0.0141689  -0.09784255 -0.00609046 -0.03866533  0.08632441 -0.03080893\n",
      "  0.01352936  0.06796408  0.04685916 -0.02273814  0.12248346  0.05816639\n",
      "  0.05497239  0.07280682 -0.00926871 -0.04413309 -0.00046183 -0.03076522\n",
      "  0.04930548 -0.02538696  0.0079333   0.01276038  0.00563218  0.04038679\n",
      " -0.01321995 -0.00693876 -0.07306252 -0.04003115 -0.03267476 -0.040054\n",
      "  0.02353085  0.03309031 -0.04658202 -0.00392687 -0.02070756  0.00642401\n",
      " -0.0197729  -0.05235899 -0.0152237   0.03411787  0.00757667 -0.00364927\n",
      "  0.03772347 -0.03012435  0.03706579 -0.04760015 -0.00396918  0.01744797\n",
      " -0.04758941 -0.00251236 -0.00572481  0.0049097  -0.0141441   0.02807183\n",
      " -0.10391773 -0.0194847  -0.0231549  -0.04564256 -0.03484858  0.02403029\n",
      "  0.04224347 -0.04169162  0.09126231  0.00936985  0.12289344 -0.02135195\n",
      " -0.04574691 -0.01888379  0.05433642  0.02475963  0.03997192 -0.01108105\n",
      " -0.00615636  0.04729314 -0.09298292 -0.04766899  0.05970235 -0.01441215\n",
      "  0.00651544 -0.03455633 -0.0752354   0.00243513 -0.07068178  0.02820278\n",
      "  0.02704135 -0.03929736 -0.06240498 -0.02088932  0.04669851 -0.0241625\n",
      " -0.06247949  0.02418072 -0.01761159 -0.07957172 -0.02931492  0.0128735\n",
      "  0.07024236 -0.01116957 -0.01059162 -0.04474854  0.06835359  0.04381882\n",
      " -0.06330339 -0.02278228  0.06000037 -0.00417061 -0.07702805 -0.04287909\n",
      "  0.05479405  0.0207117  -0.07196546  0.0142031   0.04865442  0.01451399\n",
      "  0.03297607 -0.04598083  0.10768093 -0.00829929  0.03767219 -0.0047747\n",
      "  0.03803927 -0.04949153  0.03033993 -0.00945792  0.05348596 -0.04018042\n",
      "  0.02077603 -0.04883343 -0.02330288 -0.02366505 -0.01063964 -0.01286567\n",
      " -0.03739602 -0.01333329 -0.00068791  0.02664207 -0.05676345 -0.00499745\n",
      " -0.08511554  0.12762076 -0.06893854 -0.02091601 -0.0371623  -0.00530745\n",
      " -0.04267115  0.05801366  0.03864903  0.02775746  0.01501519  0.07116549\n",
      " -0.00941628 -0.01317368  0.04835049 -0.01017912 -0.04339456 -0.03827535\n",
      "  0.0486306   0.0332512  -0.01178405 -0.01775044  0.03703109 -0.04192103\n",
      "  0.01744533  0.02549815 -0.00196875  0.01730922 -0.02257754  0.00241761\n",
      "  0.04536597 -0.01666286 -0.03922043  0.00453293  0.0335783  -0.03874797\n",
      " -0.00423703 -0.02015063  0.01969329 -0.05342779  0.02355605  0.01959039\n",
      " -0.0083393   0.01554397 -0.04827065 -0.01027489 -0.01375534 -0.00822756\n",
      "  0.01816498  0.02136993  0.10719669 -0.02189441 -0.06052275 -0.00803488\n",
      "  0.04258063 -0.09763709 -0.03208281 -0.02120718 -0.0243877   0.0284182\n",
      "  0.05424519 -0.01384522  0.01792601  0.0217703  -0.02260538  0.02931838\n",
      "  0.05052521 -0.02108447 -0.03055087  0.0019291   0.03575519  0.06677811\n",
      " -0.0158646   0.00992016 -0.01767351  0.00156212  0.06102781  0.04111078\n",
      " -0.00818996  0.02322463 -0.10965798  0.07897005  0.05874185  0.00800179\n",
      " -0.07659365 -0.03082174  0.03280045  0.06445384  0.00459709  0.01427369\n",
      "  0.02627232 -0.01807568  0.02963225 -0.00670477  0.08070378 -0.06393501\n",
      "  0.01377265 -0.02802358 -0.07520131  0.00722624  0.01238216  0.01549262\n",
      "  0.07809716  0.02502798 -0.03091057  0.01302824 -0.09159847  0.05274498\n",
      " -0.07116355  0.00480642  0.02502603 -0.0643077  -0.01322555  0.05140253\n",
      " -0.06564326 -0.07928426  0.09431518  0.04509153  0.0370813  -0.01184592\n",
      "  0.02142752 -0.00450358  0.05013976  0.03028354 -0.0247594   0.01390385\n",
      " -0.00721552  0.03896594  0.01079722  0.0600739   0.02555591 -0.05672395\n",
      "  0.01401488  0.00231104  0.02710596  0.01153449  0.01868674  0.00383484\n",
      "  0.00670117  0.01118585  0.02343095 -0.00372806  0.00582426 -0.01354846\n",
      " -0.0144276   0.00405692 -0.1028987  -0.01442057  0.00672037  0.05868795\n",
      " -0.0082152  -0.0557535  -0.07327719  0.03562439  0.02344095  0.00987572\n",
      "  0.03677986 -0.03640014  0.00169478 -0.13534291 -0.03276928  0.00994165\n",
      " -0.04157822 -0.0052365  -0.00671937 -0.08707752  0.0550858   0.00910155\n",
      " -0.05857861  0.02736601  0.03070616  0.07346359 -0.04291529  0.07326002\n",
      " -0.02937242 -0.0371334   0.04778381  0.00346654  0.05676486  0.03102873\n",
      "  0.04397795 -0.04800276 -0.08339401 -0.08182157 -0.05044962  0.0292673\n",
      "  0.03877249 -0.06325589 -0.01174111 -0.00372857 -0.11571318  0.00870126\n",
      "  0.09296209 -0.02181625  0.0074578  -0.01475116  0.05081567 -0.04755837\n",
      "  0.01396286 -0.0113627  -0.07342889  0.06050651  0.01747072  0.03186365\n",
      " -0.08997729  0.02899276]\n",
      "Every product has 500 features\n"
     ]
    }
   ],
   "source": [
    "#通过电影名得到内部id\n",
    "toy_story_row_idx  = item_to_row_idx['千年追凶']\n",
    "#得到内部id 对应的向量\n",
    "print(model.qi[toy_story_row_idx])\n",
    "print(f\"Every product has {model.qi[toy_story_row_idx].shape[0]} features\")"
   ]
  },
  {
   "cell_type": "markdown",
   "metadata": {},
   "source": [
    "Recommendations via Product based CF: Finding similarity between vectors \n",
    "2 products are \"similar\" when the cosine distance is close to 0\n",
    "#一个向量空间中两个向量夹角间的余弦值作为衡量两个个体之间差异的大小，\n",
    "#余弦值接近1，夹角趋于0，表明两个向量越相似，\n",
    "#余弦值接近于0，夹角趋于90度，表明两个向量越不相似。\n",
    "#scipy.spatial.distance.cosine(u，v) 中\n",
    "#余弦值接近0，夹角趋于0，表明两个向量越相似，\n",
    "#余弦值接近于1，夹角趋于90度，表明两个向量越不相似。\n",
    "#u和v之间的余弦距离定义为：1 - u .v / \\\\u\\\\ \\\\v\\\\"
   ]
  },
  {
   "cell_type": "markdown",
   "metadata": {},
   "source": [
    "### 通过矩阵重构进行推荐"
   ]
  },
  {
   "cell_type": "markdown",
   "metadata": {},
   "source": [
    "#### Recommendations via Matrix Reconstruction\n",
    "\n",
    "Use cases:\n",
    "Predict a score between any combination of user and a product\n",
    "\n",
    "Recommendations via Matrix Reconstruction: Using the predict() API inside of Surprise\n",
    "    \n",
    "Computes the rating prediction for given user and movie with model.predict(). \n",
    "Pick a random user and movie, and calculate the score between them\n"
   ]
  },
  {
   "cell_type": "code",
   "execution_count": 13,
   "metadata": {},
   "outputs": [
    {
     "name": "stdout",
     "output_type": "stream",
     "text": [
      "Index(['user_name', 'comment_time', 'user_id', 'moviename', 'type_user',\n",
      "       'movie_id', 'type_douban', 'actor', 'region', 'director',\n",
      "       'characteristic', 'score_douban', 'rating'],\n",
      "      dtype='object')\n"
     ]
    },
    {
     "data": {
      "text/html": [
       "<div>\n",
       "<style scoped>\n",
       "    .dataframe tbody tr th:only-of-type {\n",
       "        vertical-align: middle;\n",
       "    }\n",
       "\n",
       "    .dataframe tbody tr th {\n",
       "        vertical-align: top;\n",
       "    }\n",
       "\n",
       "    .dataframe thead th {\n",
       "        text-align: right;\n",
       "    }\n",
       "</style>\n",
       "<table border=\"1\" class=\"dataframe\">\n",
       "  <thead>\n",
       "    <tr style=\"text-align: right;\">\n",
       "      <th></th>\n",
       "      <th>user_id</th>\n",
       "      <th>moviename</th>\n",
       "      <th>rating</th>\n",
       "    </tr>\n",
       "  </thead>\n",
       "  <tbody>\n",
       "    <tr>\n",
       "      <th>0</th>\n",
       "      <td>User 23502</td>\n",
       "      <td>你好，陌生人</td>\n",
       "      <td>10</td>\n",
       "    </tr>\n",
       "    <tr>\n",
       "      <th>1</th>\n",
       "      <td>User 26682</td>\n",
       "      <td>死神有约：死后的生活</td>\n",
       "      <td>8</td>\n",
       "    </tr>\n",
       "    <tr>\n",
       "      <th>2</th>\n",
       "      <td>User 3249</td>\n",
       "      <td>精灵旅社2</td>\n",
       "      <td>8</td>\n",
       "    </tr>\n",
       "    <tr>\n",
       "      <th>3</th>\n",
       "      <td>User 4874</td>\n",
       "      <td>盲者之国</td>\n",
       "      <td>2</td>\n",
       "    </tr>\n",
       "    <tr>\n",
       "      <th>4</th>\n",
       "      <td>User 1650</td>\n",
       "      <td>安娜·卡列尼娜</td>\n",
       "      <td>8</td>\n",
       "    </tr>\n",
       "    <tr>\n",
       "      <th>5</th>\n",
       "      <td>User 6647</td>\n",
       "      <td>铁面无私</td>\n",
       "      <td>10</td>\n",
       "    </tr>\n",
       "    <tr>\n",
       "      <th>6</th>\n",
       "      <td>User 4372</td>\n",
       "      <td>史酷比与国王的精灵</td>\n",
       "      <td>4</td>\n",
       "    </tr>\n",
       "    <tr>\n",
       "      <th>7</th>\n",
       "      <td>User 26935</td>\n",
       "      <td>梁祝</td>\n",
       "      <td>2</td>\n",
       "    </tr>\n",
       "    <tr>\n",
       "      <th>8</th>\n",
       "      <td>User 17542</td>\n",
       "      <td>囚犯</td>\n",
       "      <td>8</td>\n",
       "    </tr>\n",
       "    <tr>\n",
       "      <th>9</th>\n",
       "      <td>User 517</td>\n",
       "      <td>风斗士</td>\n",
       "      <td>2</td>\n",
       "    </tr>\n",
       "  </tbody>\n",
       "</table>\n",
       "</div>"
      ],
      "text/plain": [
       "      user_id   moviename  rating\n",
       "0  User 23502      你好，陌生人      10\n",
       "1  User 26682  死神有约：死后的生活       8\n",
       "2   User 3249       精灵旅社2       8\n",
       "3   User 4874        盲者之国       2\n",
       "4   User 1650     安娜·卡列尼娜       8\n",
       "5   User 6647        铁面无私      10\n",
       "6   User 4372   史酷比与国王的精灵       4\n",
       "7  User 26935          梁祝       2\n",
       "8  User 17542          囚犯       8\n",
       "9    User 517         风斗士       2"
      ]
     },
     "execution_count": 13,
     "metadata": {},
     "output_type": "execute_result"
    }
   ],
   "source": [
    "# Refresher: ratings data-frame.\n",
    "print(all_data_df.columns)\n",
    "a1 = all_data_df[['user_id','moviename','rating']]\n",
    "a1.head(10)"
   ]
  },
  {
   "cell_type": "code",
   "execution_count": 14,
   "metadata": {},
   "outputs": [
    {
     "data": {
      "text/plain": [
       "Prediction(uid='User 15668', iid='梁祝', r_ui=None, est=6.625245834510631, details={'was_impossible': False})"
      ]
     },
     "execution_count": 14,
     "metadata": {},
     "output_type": "execute_result"
    }
   ],
   "source": [
    "a_user = \"User 15668\"\n",
    "a_product = \"梁祝\"\n",
    "model.predict(a_user, a_product)"
   ]
  },
  {
   "cell_type": "markdown",
   "metadata": {},
   "source": [
    "### 通过基础CF 进行推荐：查找向量之间的相似度"
   ]
  },
  {
   "cell_type": "markdown",
   "metadata": {},
   "source": [
    "Item-based collaborative filtering\n",
    "Recommendations via Item Similarity: Finding similarity between vectors\n",
    "2 products are \"similar\" when the cosine distance is close to 0"
   ]
  },
  {
   "cell_type": "code",
   "execution_count": 15,
   "metadata": {},
   "outputs": [],
   "source": [
    "from scipy.spatial.distance import cosine\n",
    "\n",
    "#通过电影名得到内部id\n",
    "#返回值：内部id 对应的向量\n",
    "def get_vector_by_movie_title(movie_title ,trained_model )  :\n",
    "    \"\"\"Returns the latent features of a movie in the form of a numpy array\"\"\"\n",
    "    movie_row_idx = trained_model.trainset._raw2inner_id_items[movie_title]\n",
    "    return trained_model.qi[movie_row_idx]\n",
    "\n",
    "\n",
    "def cosine_distance(vector_a , vector_b ) :\n",
    "    \"\"\"Returns a float indicating the similarity between two vectors\"\"\"\n",
    "    return cosine(vector_a, vector_b)"
   ]
  },
  {
   "cell_type": "code",
   "execution_count": 16,
   "metadata": {},
   "outputs": [
    {
     "name": "stdout",
     "output_type": "stream",
     "text": [
      "1.0601859743377933\n",
      "0.9954850171201605\n"
     ]
    }
   ],
   "source": [
    "from scipy.spatial.distance import cosine as cosine_distance\n",
    "\n",
    "# Fetch indices for Toy Story and Wizard of Oz\n",
    "djs_idx = model.trainset._raw2inner_id_items['独角兽']\n",
    "hy_idx = model.trainset._raw2inner_id_items['后裔']\n",
    "westar_idx = model.trainset._raw2inner_id_items['我们的追星之路']\n",
    "\n",
    "# Get vectors for both movies\n",
    "starwars_vector = model.qi[djs_idx]\n",
    "return_of_jedi_vector = model.qi[hy_idx]\n",
    "aladdin_vector = model.qi[westar_idx]\n",
    "# Distance 1\n",
    "print(cosine_distance(starwars_vector, return_of_jedi_vector))\n",
    "# Distance 2\n",
    "print(cosine_distance(starwars_vector, aladdin_vector))"
   ]
  },
  {
   "cell_type": "markdown",
   "metadata": {},
   "source": [
    "### Finding similar movies by ranking"
   ]
  },
  {
   "cell_type": "code",
   "execution_count": 17,
   "metadata": {},
   "outputs": [],
   "source": [
    "def display_similarity(similarity_table):\n",
    "    similarity_table = pd.DataFrame(\n",
    "        similarity_table,\n",
    "        columns=['vector cosine distance', 'movie title']\n",
    "    ).sort_values('vector cosine distance', ascending=True)\n",
    "    return similarity_table.iloc[:6]"
   ]
  },
  {
   "cell_type": "code",
   "execution_count": 18,
   "metadata": {},
   "outputs": [],
   "source": [
    "def get_top_similarities(movie_title , model ):\n",
    "    \"\"\"Returns the top 5 most similar movies to a specified movie\n",
    "    \n",
    "    This function iterates over every possible movie in MovieLens and calculates\n",
    "    distance between `movie_title` vector and that movie's vector.\n",
    "    \"\"\"\n",
    "    \n",
    "    # Get the first movie vector\n",
    "    #通过电影名得到内部id\n",
    "    #返回值：内部id 对应的向量\n",
    "    movie_vector  = get_vector_by_movie_title(movie_title, model)\n",
    "    similarity_table = []\n",
    "    \n",
    "    # Iterate over every possible movie and calculate similarity\n",
    "    #print('model.trainset._raw2inner_id_items\\n',model.trainset._raw2inner_id_items)\n",
    "    #dict '怪物大乱斗': 0, '我想戴上戒指': 1, '乌云背后的幸福线': 2, '法官老爹': 3, '千年追凶': 4, \n",
    "    #key 电影名  value  内部id（inner id）\n",
    "    for other_movie_title in model.trainset._raw2inner_id_items.keys():\n",
    "        other_movie_vector = get_vector_by_movie_title(other_movie_title, model)   \n",
    "        # Get the second movie vector, and calculate distance\n",
    "        similarity_score = cosine_distance(other_movie_vector, movie_vector)\n",
    "        similarity_table.append((similarity_score, other_movie_title))\n",
    "\n",
    "    #列表的每个元素是元组 （相似度，电影名）\n",
    "    print('similarity_table len\\n',len(similarity_table))\n",
    "    \n",
    "    # sort movies by ascending similarity\n",
    "    return display_similarity(sorted(similarity_table))"
   ]
  },
  {
   "cell_type": "code",
   "execution_count": 19,
   "metadata": {},
   "outputs": [
    {
     "name": "stdout",
     "output_type": "stream",
     "text": [
      "similarity_table len\n",
      " 21713\n"
     ]
    },
    {
     "data": {
      "text/html": [
       "<div>\n",
       "<style scoped>\n",
       "    .dataframe tbody tr th:only-of-type {\n",
       "        vertical-align: middle;\n",
       "    }\n",
       "\n",
       "    .dataframe tbody tr th {\n",
       "        vertical-align: top;\n",
       "    }\n",
       "\n",
       "    .dataframe thead th {\n",
       "        text-align: right;\n",
       "    }\n",
       "</style>\n",
       "<table border=\"1\" class=\"dataframe\">\n",
       "  <thead>\n",
       "    <tr style=\"text-align: right;\">\n",
       "      <th></th>\n",
       "      <th>vector cosine distance</th>\n",
       "      <th>movie title</th>\n",
       "    </tr>\n",
       "  </thead>\n",
       "  <tbody>\n",
       "    <tr>\n",
       "      <th>0</th>\n",
       "      <td>0.000000</td>\n",
       "      <td>王牌对王牌</td>\n",
       "    </tr>\n",
       "    <tr>\n",
       "      <th>1</th>\n",
       "      <td>0.818190</td>\n",
       "      <td>恐怖人生</td>\n",
       "    </tr>\n",
       "    <tr>\n",
       "      <th>2</th>\n",
       "      <td>0.828107</td>\n",
       "      <td>猫的奴隶</td>\n",
       "    </tr>\n",
       "    <tr>\n",
       "      <th>3</th>\n",
       "      <td>0.835681</td>\n",
       "      <td>无法阻挡的婚姻</td>\n",
       "    </tr>\n",
       "    <tr>\n",
       "      <th>4</th>\n",
       "      <td>0.838362</td>\n",
       "      <td>赛文奥特曼 EVOLUTION EPISODE：1 黑暗一面</td>\n",
       "    </tr>\n",
       "    <tr>\n",
       "      <th>5</th>\n",
       "      <td>0.838501</td>\n",
       "      <td>日以作夜</td>\n",
       "    </tr>\n",
       "  </tbody>\n",
       "</table>\n",
       "</div>"
      ],
      "text/plain": [
       "   vector cosine distance                     movie title\n",
       "0                0.000000                           王牌对王牌\n",
       "1                0.818190                            恐怖人生\n",
       "2                0.828107                            猫的奴隶\n",
       "3                0.835681                         无法阻挡的婚姻\n",
       "4                0.838362  赛文奥特曼 EVOLUTION EPISODE：1 黑暗一面\n",
       "5                0.838501                            日以作夜"
      ]
     },
     "execution_count": 19,
     "metadata": {},
     "output_type": "execute_result"
    }
   ],
   "source": [
    "get_top_similarities('王牌对王牌', model)"
   ]
  },
  {
   "cell_type": "code",
   "execution_count": null,
   "metadata": {},
   "outputs": [],
   "source": []
  }
 ],
 "metadata": {
  "kernelspec": {
   "display_name": "Python [conda env:py36]",
   "language": "python",
   "name": "conda-env-py36-py"
  },
  "language_info": {
   "codemirror_mode": {
    "name": "ipython",
    "version": 3
   },
   "file_extension": ".py",
   "mimetype": "text/x-python",
   "name": "python",
   "nbconvert_exporter": "python",
   "pygments_lexer": "ipython3",
   "version": "3.6.12"
  }
 },
 "nbformat": 4,
 "nbformat_minor": 4
}
